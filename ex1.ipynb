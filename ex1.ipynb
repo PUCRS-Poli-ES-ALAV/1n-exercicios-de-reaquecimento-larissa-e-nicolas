{
 "cells": [
  {
   "cell_type": "markdown",
   "metadata": {},
   "source": [
    "Multiplicação de dois números naturais, através de somas sucessivas (Ex.: 6 ∗ 4 = 4 + 4 + 4 + 4 + 4 + 4)."
   ]
  },
  {
   "cell_type": "code",
   "execution_count": null,
   "metadata": {},
   "outputs": [
    {
     "name": "stdout",
     "output_type": "stream",
     "text": [
      "24\n"
     ]
    }
   ],
   "source": [
    "def multiplicacao (a,b):\n",
    "    if a == 0:\n",
    "        return 0\n",
    "    else:\n",
    "        return b + multiplicacao (a-1,b)\n",
    "print (multiplicacao(6,4))"
   ]
  },
  {
   "cell_type": "markdown",
   "metadata": {},
   "source": [
    "Soma de dois números naturais, através de incrementos sucessivos (Ex.: 3 + 2 = + + (+ + + 1))."
   ]
  },
  {
   "cell_type": "code",
   "execution_count": 2,
   "metadata": {},
   "outputs": [
    {
     "name": "stdout",
     "output_type": "stream",
     "text": [
      "15\n"
     ]
    }
   ],
   "source": [
    "def soma (a):\n",
    "    if a == 0:\n",
    "        return 0\n",
    "    else:\n",
    "        return a + soma (a-1)\n",
    "print (soma(5))"
   ]
  },
  {
   "cell_type": "markdown",
   "metadata": {},
   "source": [
    "Cálculo de 1 + 1/2 + 1/3 + 1/4 + ... + 1/N."
   ]
  },
  {
   "cell_type": "code",
   "execution_count": null,
   "metadata": {},
   "outputs": [
    {
     "name": "stdout",
     "output_type": "stream",
     "text": [
      "2.283333333333333\n"
     ]
    }
   ],
   "source": [
    "def somadivisao(a):\n",
    "    if a == 1:\n",
    "        return 1\n",
    "    else:\n",
    "        return 1/a + somadivisao(a-1)\n",
    "\n",
    "print(somadivisao(5))  # Exemplo para a = 5\n"
   ]
  },
  {
   "cell_type": "markdown",
   "metadata": {},
   "source": [
    "Inversão de uma string."
   ]
  },
  {
   "cell_type": "code",
   "execution_count": 7,
   "metadata": {},
   "outputs": [
    {
     "name": "stdout",
     "output_type": "stream",
     "text": [
      "assiraL\n"
     ]
    }
   ],
   "source": [
    "def inversao(a):\n",
    "    if len(a) == 0: \n",
    "        return \"\"\n",
    "    else:\n",
    "       return a[-1] + inversao(a[:-1])\n",
    "print(inversao(\"Larissa\"))"
   ]
  },
  {
   "cell_type": "markdown",
   "metadata": {},
   "source": [
    "Gerador da sequência dada por:\n",
    "F(1) = 1\n",
    "F(2) = 2\n",
    "F(n) = 2 ∗ F(n − 1) + 3 ∗ F(n − 2)."
   ]
  },
  {
   "cell_type": "code",
   "execution_count": null,
   "metadata": {},
   "outputs": [
    {
     "name": "stdout",
     "output_type": "stream",
     "text": [
      "61\n"
     ]
    }
   ],
   "source": [
    "def funcao(a):\n",
    "    if a == 0:\n",
    "        return 0\n",
    "    elif a == 1:\n",
    "        return 1  # Caso base adicional para evitar erro em F(a-2) quando a = 1\n",
    "    else:\n",
    "        return 2 * funcao(a-1) + 3 * funcao(a-2)\n",
    "\n",
    "print(funcao(5))\n"
   ]
  }
 ],
 "metadata": {
  "kernelspec": {
   "display_name": "Python 3",
   "language": "python",
   "name": "python3"
  },
  "language_info": {
   "codemirror_mode": {
    "name": "ipython",
    "version": 3
   },
   "file_extension": ".py",
   "mimetype": "text/x-python",
   "name": "python",
   "nbconvert_exporter": "python",
   "pygments_lexer": "ipython3",
   "version": "3.10.11"
  }
 },
 "nbformat": 4,
 "nbformat_minor": 2
}
