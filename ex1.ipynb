{
 "cells": [
  {
   "cell_type": "markdown",
   "metadata": {},
   "source": [
    "Multiplicação de dois números naturais, através de somas sucessivas (Ex.: 6 ∗ 4 = 4 + 4 + 4 + 4 + 4 + 4)."
   ]
  },
  {
   "cell_type": "code",
   "execution_count": null,
   "metadata": {},
   "outputs": [
    {
     "name": "stdout",
     "output_type": "stream",
     "text": [
      "24\n"
     ]
    }
   ],
   "source": [
    "def multiplicacao (a,b):\n",
    "    if a == 0:\n",
    "        return 0\n",
    "    else:\n",
    "        return b + multiplicacao (a-1,b)\n",
    "print (multiplicacao(6,4))"
   ]
  },
  {
   "cell_type": "markdown",
   "metadata": {},
   "source": [
    "Soma de dois números naturais, através de incrementos sucessivos (Ex.: 3 + 2 = + + (+ + + 1))."
   ]
  },
  {
   "cell_type": "code",
   "execution_count": 2,
   "metadata": {},
   "outputs": [
    {
     "name": "stdout",
     "output_type": "stream",
     "text": [
      "15\n"
     ]
    }
   ],
   "source": [
    "def soma (a):\n",
    "    if a == 0:\n",
    "        return 0\n",
    "    else:\n",
    "        return a + soma (a-1)\n",
    "print (soma(5))"
   ]
  },
  {
   "cell_type": "markdown",
   "metadata": {},
   "source": [
    "Cálculo de 1 + 1/2 + 1/3 + 1/4 + ... + 1/N."
   ]
  },
  {
   "cell_type": "code",
   "execution_count": null,
   "metadata": {},
   "outputs": [
    {
     "name": "stdout",
     "output_type": "stream",
     "text": [
      "2.283333333333333\n"
     ]
    }
   ],
   "source": [
    "def somadivisao(a):\n",
    "    if a == 1:\n",
    "        return 1\n",
    "    else:\n",
    "        return 1/a + somadivisao(a-1)\n",
    "\n",
    "print(somadivisao(5))  # Exemplo para a = 5\n"
   ]
  },
  {
   "cell_type": "markdown",
   "metadata": {},
   "source": [
    "Inversão de uma string."
   ]
  },
  {
   "cell_type": "code",
   "execution_count": 7,
   "metadata": {},
   "outputs": [
    {
     "name": "stdout",
     "output_type": "stream",
     "text": [
      "assiraL\n"
     ]
    }
   ],
   "source": [
    "def inversao(a):\n",
    "    if len(a) == 0: \n",
    "        return \"\"\n",
    "    else:\n",
    "       return a[-1] + inversao(a[:-1])\n",
    "print(inversao(\"Larissa\"))"
   ]
  },
  {
   "cell_type": "markdown",
   "metadata": {},
   "source": [
    "Gerador da sequência dada por:\n",
    "F(1) = 1\n",
    "F(2) = 2\n",
    "F(n) = 2 ∗ F(n − 1) + 3 ∗ F(n − 2)."
   ]
  },
  {
   "cell_type": "code",
   "execution_count": null,
   "metadata": {},
   "outputs": [
    {
     "name": "stdout",
     "output_type": "stream",
     "text": [
      "61\n"
     ]
    }
   ],
   "source": [
    "def funcao(a):\n",
    "    if a == 0:\n",
    "        return 0\n",
    "    elif a == 1:\n",
    "        return 1  # Caso base adicional para evitar erro em F(a-2) quando a = 1\n",
    "    else:\n",
    "        return 2 * funcao(a-1) + 3 * funcao(a-2)\n",
    "\n",
    "print(funcao(5))\n"
   ]
  },
  {
   "cell_type": "markdown",
   "metadata": {},
   "source": [
    "Gerador de Sequência de Ackerman:\n",
    "A(m, n) = n + 1, se m = 0\n",
    "A(m, n) = A(m − 1, 1), se m != 0 e n = 0\n",
    "A(m, n) = A(m − 1, A(m, n − 1)), se m != 0 e n != 0."
   ]
  },
  {
   "cell_type": "code",
   "execution_count": 10,
   "metadata": {},
   "outputs": [
    {
     "name": "stdout",
     "output_type": "stream",
     "text": [
      "1\n"
     ]
    }
   ],
   "source": [
    "def sequencia (m,n):\n",
    "    if m == 0:\n",
    "        return n\n",
    "    elif m!= 0 and n==0:\n",
    "        return sequencia(m-1,1)\n",
    "    else:\n",
    "        return sequencia(m-1,(sequencia(m, n-1)))\n",
    "    \n",
    "print (sequencia(5,4))"
   ]
  },
  {
   "cell_type": "markdown",
   "metadata": {},
   "source": [
    "A partir de um vetor de números inteiros, calcule a soma e o produto dos elementos do vetor."
   ]
  },
  {
   "cell_type": "code",
   "execution_count": 18,
   "metadata": {},
   "outputs": [
    {
     "name": "stdout",
     "output_type": "stream",
     "text": [
      "Soma dos elementos: 12\n",
      "Produto dos elementos: 48\n"
     ]
    }
   ],
   "source": [
    "\n",
    "def vetores(a, b, c):\n",
    "    meu_vetor = [a, b, c]\n",
    "    somar_vetor = sum(meu_vetor)  \n",
    "    produto_vetor = a * b * c  \n",
    "    return somar_vetor, produto_vetor  \n",
    "\n",
    "\n",
    "soma, produto = vetores(2, 4, 6)\n",
    "\n",
    "\n",
    "print(\"Soma dos elementos:\", soma)\n",
    "print(\"Produto dos elementos:\", produto)\n",
    "\n",
    "\n"
   ]
  },
  {
   "cell_type": "markdown",
   "metadata": {},
   "source": [
    "Verifique se uma palavra é palíndromo (Ex. aba, abcba, xyzzyx)."
   ]
  },
  {
   "cell_type": "code",
   "execution_count": null,
   "metadata": {},
   "outputs": [
    {
     "name": "stdout",
     "output_type": "stream",
     "text": [
      "True\n"
     ]
    }
   ],
   "source": [
    "def palindromo(a):\n",
    "    if len(a) <= 1:\n",
    "        return True\n",
    "    elif a[-1] == a[0]:\n",
    "        return palindromo(a[1:-1]) #VAI COMPARANDO O PENULTIMO COM O SEGUNDO E ASSIM POR DIANTE, SE DER TRUE ATÉ AGR E O TAMANHO DE A FOR IGUAL A 1 OU 0, DARÁ TRUE\n",
    "    else:\n",
    "        return False\n",
    "print (palindromo(\"NICKCIN\"))"
   ]
  },
  {
   "cell_type": "markdown",
   "metadata": {},
   "source": [
    "Dado um número n, gere todas as possíveis combinações com as n primeiras letras do alfabeto. Ex.: n = 3. Resposta: ABC, ACB, BAC, BCA, CAB, CBA."
   ]
  },
  {
   "cell_type": "code",
   "execution_count": null,
   "metadata": {},
   "outputs": [],
   "source": [
    "import string\n",
    "def combinacoes(n):\n",
    "    alfabeto = string.ascii_lowercase\n",
    "  \n"
   ]
  },
  {
   "cell_type": "markdown",
   "metadata": {},
   "source": [
    "Defina uma sequência de Fibonacci generalizada, de f0 a f1 como sequência fibg(f0, f1, 0), fibg(f0, f1, 1), fibg(f0, f1, 2), ..., onde:\n",
    "fibg(f0, f1, 0) = f0\n",
    "fibg(f0, f1, 1) = f1\n",
    "fibg(f0, f1, n) = fibg(f0, f1, n − 1) + fibg(f0, f1, n − 2), se n > 1."
   ]
  },
  {
   "cell_type": "code",
   "execution_count": null,
   "metadata": {},
   "outputs": [
    {
     "name": "stdout",
     "output_type": "stream",
     "text": [
      "8\n"
     ]
    }
   ],
   "source": [
    "def fibonacci(f0,f1,n):\n",
    "    if n == 0:\n",
    "        return f0\n",
    "    elif n == 1:\n",
    "        return f1\n",
    "    elif n > 1:\n",
    "        return fibonacci(f0, f1, n - 1) + fibonacci(f0, f1, n - 2)\n",
    "    \n",
    "print (fibonacci(1,2,4))\n",
    "#(o terceiro valor da sequência, indexando a partir de zero)\n",
    "# fibg(1, 2, 0) = 1\n",
    "# fibg(1, 2, 1) = 2\n",
    "# fibg(1, 2, 2) = 3\n",
    "# fibg(1, 2, 3) = 5\n",
    "# fibg(1, 2, 4) = 8"
   ]
  }
 ],
 "metadata": {
  "kernelspec": {
   "display_name": "Python 3",
   "language": "python",
   "name": "python3"
  },
  "language_info": {
   "codemirror_mode": {
    "name": "ipython",
    "version": 3
   },
   "file_extension": ".py",
   "mimetype": "text/x-python",
   "name": "python",
   "nbconvert_exporter": "python",
   "pygments_lexer": "ipython3",
   "version": "3.10.11"
  }
 },
 "nbformat": 4,
 "nbformat_minor": 2
}
