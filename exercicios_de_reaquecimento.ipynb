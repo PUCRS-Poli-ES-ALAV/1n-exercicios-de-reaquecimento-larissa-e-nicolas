{
 "cells": [
  {
   "cell_type": "markdown",
   "metadata": {},
   "source": [
    "Gerador de Sequência de Ackerman:\n",
    "A(m, n) = n + 1, se m = 0\n",
    "A(m, n) = A(m − 1, 1), se m != 0 e n = 0\n",
    "A(m, n) = A(m − 1, A(m, n − 1)), se m != 0 e n != 0."
   ]
  },
  {
   "cell_type": "code",
   "execution_count": 44,
   "metadata": {},
   "outputs": [
    {
     "name": "stdout",
     "output_type": "stream",
     "text": [
      "7\n"
     ]
    }
   ],
   "source": [
    "def sequencia(m, n):\n",
    "    if m == 0:\n",
    "        return n + 1\n",
    "    if m != 0 and n == 0:\n",
    "        return sequencia(m - 1, 1)\n",
    "    if m != 0 and n != 0:\n",
    "        return sequencia(m - 1, sequencia(m, n - 1))\n",
    "print(sequencia(2, 2))\n",
    "    "
   ]
  },
  {
   "cell_type": "markdown",
   "metadata": {},
   "source": [
    "Defina uma sequência de Fibonacci generalizada, de f0 a f1 como sequência fibg(f0, f1, 0), fibg(f0, f1, 1), fibg(f0, f1, 2), ..., onde: fibg(f0, f1, 0) = f0 fibg(f0, f1, 1) = f1 fibg(f0, f1, n) = fibg(f0, f1, n − 1) + fibg(f0, f1, n − 2), se n > 1."
   ]
  },
  {
   "cell_type": "code",
   "execution_count": 18,
   "metadata": {},
   "outputs": [
    {
     "name": "stdout",
     "output_type": "stream",
     "text": [
      "55\n"
     ]
    }
   ],
   "source": [
    "def fibonacci(f0, f1, n):\n",
    "    if n == 0:\n",
    "        return f0\n",
    "    if n == 1:\n",
    "        return f1\n",
    "    return fibonacci(f0, f1, n - 1) + fibonacci(f0, f1, n - 2)\n",
    "\n",
    "print(fibonacci(0, 1, 10))"
   ]
  },
  {
   "cell_type": "markdown",
   "metadata": {},
   "source": [
    "Verifique se uma palavra é palíndromo (Ex. aba, abcba, xyzzyx)."
   ]
  },
  {
   "cell_type": "code",
   "execution_count": 5,
   "metadata": {},
   "outputs": [
    {
     "name": "stdout",
     "output_type": "stream",
     "text": [
      "True\n"
     ]
    }
   ],
   "source": [
    "def palindromo(palavra):\n",
    "    if len(palavra) <= 1:\n",
    "        return True\n",
    "    if palavra[0] == palavra[-1]:   \n",
    "        return palindromo(palavra[1:-1])\n",
    "    else:\n",
    "        return False\n",
    "\n",
    "print(palindromo('ovo'))"
   ]
  },
  {
   "cell_type": "markdown",
   "metadata": {},
   "source": [
    "Dado um número n, gere todas as possíveis combinações com as n primeiras letras do alfabeto. Ex.: n = 3. Resposta: ABC, ACB, BAC, BCA, CAB, CBA."
   ]
  },
  {
   "cell_type": "code",
   "execution_count": 17,
   "metadata": {},
   "outputs": [
    {
     "name": "stdout",
     "output_type": "stream",
     "text": [
      "['abcde', 'abced', 'abdce', 'abdec', 'abecd', 'abedc', 'acbde', 'acbed', 'acdbe', 'acdeb', 'acebd', 'acedb', 'adbce', 'adbec', 'adcbe', 'adceb', 'adebc', 'adecb', 'aebcd', 'aebdc', 'aecbd', 'aecdb', 'aedbc', 'aedcb', 'bacde', 'baced', 'badce', 'badec', 'baecd', 'baedc', 'bcade', 'bcaed', 'bcdae', 'bcdea', 'bcead', 'bceda', 'bdace', 'bdaec', 'bdcae', 'bdcea', 'bdeac', 'bdeca', 'beacd', 'beadc', 'becad', 'becda', 'bedac', 'bedca', 'cabde', 'cabed', 'cadbe', 'cadeb', 'caebd', 'caedb', 'cbade', 'cbaed', 'cbdae', 'cbdea', 'cbead', 'cbeda', 'cdabe', 'cdaeb', 'cdbae', 'cdbea', 'cdeab', 'cdeba', 'ceabd', 'ceadb', 'cebad', 'cebda', 'cedab', 'cedba', 'dabce', 'dabec', 'dacbe', 'daceb', 'daebc', 'daecb', 'dbace', 'dbaec', 'dbcae', 'dbcea', 'dbeac', 'dbeca', 'dcabe', 'dcaeb', 'dcbae', 'dcbea', 'dceab', 'dceba', 'deabc', 'deacb', 'debac', 'debca', 'decab', 'decba', 'eabcd', 'eabdc', 'eacbd', 'eacdb', 'eadbc', 'eadcb', 'ebacd', 'ebadc', 'ebcad', 'ebcda', 'ebdac', 'ebdca', 'ecabd', 'ecadb', 'ecbad', 'ecbda', 'ecdab', 'ecdba', 'edabc', 'edacb', 'edbac', 'edbca', 'edcab', 'edcba']\n",
      "120\n"
     ]
    }
   ],
   "source": [
    "def comb(pre, pos, res):\n",
    "    if len(pos) == 0:\n",
    "        res.append(pre)\n",
    "    else:\n",
    "        for i in range(len(pos)):\n",
    "            novo_pre = pre + pos[i]\n",
    "            novo_pos = pos[:i] + pos[i+1:]\n",
    "            comb(novo_pre, novo_pos, res)\n",
    "    \n",
    "def combinacoes(n):\n",
    "    alfabeto = \"abcdefghijklmnopqrstuvwxyz\"[:n]\n",
    "    res = []\n",
    "    comb(\"\", alfabeto, res)\n",
    "    return res\n",
    "\n",
    "print(combinacoes(5))\n",
    "print(len(combinacoes(5)))"
   ]
  },
  {
   "cell_type": "markdown",
   "metadata": {},
   "source": [
    "A partir de um vetor de números inteiros, calcule a soma e o produto dos elementos do vetor."
   ]
  },
  {
   "cell_type": "code",
   "execution_count": 2,
   "metadata": {},
   "outputs": [
    {
     "name": "stdout",
     "output_type": "stream",
     "text": [
      "8 18\n"
     ]
    }
   ],
   "source": [
    "def vetores (a, b, c):\n",
    "    vetor = [a, b, c]\n",
    "    soma_vetor = sum(vetor)\n",
    "    produto_vetor = a * b * c\n",
    "    return soma_vetor, produto_vetor\n",
    "\n",
    "soma, produto = vetores(3, 2, 3)\n",
    "print(soma, produto)"
   ]
  },
  {
   "cell_type": "markdown",
   "metadata": {},
   "source": [
    "Gerador da sequência dada por:\n",
    "F(1) = 1\n",
    "F(2) = 2\n",
    "F(n) = 2 ∗ F(n − 1) + 3 ∗ F(n − 2)."
   ]
  },
  {
   "cell_type": "code",
   "execution_count": 45,
   "metadata": {},
   "outputs": [
    {
     "name": "stdout",
     "output_type": "stream",
     "text": [
      "61\n"
     ]
    }
   ],
   "source": [
    "def sequencia(n):\n",
    "    if n == 0:\n",
    "        return 0\n",
    "    elif n == 1:\n",
    "        return 1    \n",
    "    elif n == 2:\n",
    "        return 2\n",
    "    else:\n",
    "        return 2 * sequencia(n - 1) + 3 * sequencia(n - 2)\n",
    "print(sequencia(5))"
   ]
  },
  {
   "cell_type": "markdown",
   "metadata": {},
   "source": [
    "Inversão de uma string"
   ]
  },
  {
   "cell_type": "code",
   "execution_count": 22,
   "metadata": {},
   "outputs": [
    {
     "name": "stdout",
     "output_type": "stream",
     "text": [
      "gnirts\n"
     ]
    }
   ],
   "source": [
    "def inversao_string(a):\n",
    "    if len(a) <= 1:\n",
    "        return a\n",
    "    else:\n",
    "        return a[-1] + inversao_string(a[:-1])\n",
    "print(inversao_string('string'))"
   ]
  },
  {
   "cell_type": "markdown",
   "metadata": {},
   "source": [
    "Cálculo de 1 + 1/2 + 1/3 + 1/4 + ... + 1/N."
   ]
  },
  {
   "cell_type": "code",
   "execution_count": 19,
   "metadata": {},
   "outputs": [
    {
     "name": "stdout",
     "output_type": "stream",
     "text": [
      "2.283333333333333\n"
     ]
    }
   ],
   "source": [
    "def serieharmonica(a):\n",
    "    if a == 1: \n",
    "        return 1\n",
    "    else:\n",
    "        return 1/a + serieharmonica(a-1)\n",
    "print (serieharmonica(5))"
   ]
  },
  {
   "cell_type": "markdown",
   "metadata": {},
   "source": [
    "Multiplicação de dois números naturais, através de somas sucessivas (Ex.: 6 ∗ 4 = 4 + 4 + 4 + 4 + 4 + 4)."
   ]
  },
  {
   "cell_type": "code",
   "execution_count": 20,
   "metadata": {},
   "outputs": [
    {
     "name": "stdout",
     "output_type": "stream",
     "text": [
      "24\n"
     ]
    }
   ],
   "source": [
    "def multiplicacao(a, b):\n",
    "    if a == 0:\n",
    "        return 0\n",
    "    return b + multiplicacao(a - 1, b)\n",
    "\n",
    "#Teste\n",
    "print(multiplicacao(6, 4)) "
   ]
  },
  {
   "cell_type": "markdown",
   "metadata": {},
   "source": [
    "Soma de dois números naturais, através de incrementos sucessivos (Ex.: 3 + 2 = + + (+ + + 1))."
   ]
  },
  {
   "cell_type": "code",
   "execution_count": null,
   "metadata": {},
   "outputs": [],
   "source": [
    "def soma (a):\n",
    "    if a == 0:\n",
    "        return 0\n",
    "    else:\n",
    "        return a + soma (a-1)\n",
    "print (soma(5))"
   ]
  }
 ],
 "metadata": {
  "kernelspec": {
   "display_name": "Python 3",
   "language": "python",
   "name": "python3"
  },
  "language_info": {
   "codemirror_mode": {
    "name": "ipython",
    "version": 3
   },
   "file_extension": ".py",
   "mimetype": "text/x-python",
   "name": "python",
   "nbconvert_exporter": "python",
   "pygments_lexer": "ipython3",
   "version": "3.13.2"
  }
 },
 "nbformat": 4,
 "nbformat_minor": 2
}
