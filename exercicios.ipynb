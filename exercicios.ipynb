{
 "cells": [
  {
   "cell_type": "markdown",
   "metadata": {},
   "source": [
    "Gerador de Sequência de Ackerman:\n",
    "A(m, n) = n + 1, se m = 0\n",
    "A(m, n) = A(m − 1, 1), se m != 0 e n = 0\n",
    "A(m, n) = A(m − 1, A(m, n − 1)), se m != 0 e n != 0."
   ]
  },
  {
   "cell_type": "code",
   "execution_count": 44,
   "metadata": {},
   "outputs": [
    {
     "name": "stdout",
     "output_type": "stream",
     "text": [
      "7\n"
     ]
    }
   ],
   "source": [
    "def sequencia(m, n):\n",
    "    if m == 0:\n",
    "        return n + 1\n",
    "    if m != 0 and n == 0:\n",
    "        return sequencia(m - 1, 1)\n",
    "    if m != 0 and n != 0:\n",
    "        return sequencia(m - 1, sequencia(m, n - 1))\n",
    "print(sequencia(2, 2))\n",
    "    "
   ]
  },
  {
   "cell_type": "markdown",
   "metadata": {},
   "source": [
    "Gerador da sequência dada por:\n",
    "F(1) = 1\n",
    "F(2) = 2\n",
    "F(n) = 2 ∗ F(n − 1) + 3 ∗ F(n − 2)."
   ]
  },
  {
   "cell_type": "code",
   "execution_count": 45,
   "metadata": {},
   "outputs": [
    {
     "name": "stdout",
     "output_type": "stream",
     "text": [
      "61\n"
     ]
    }
   ],
   "source": [
    "def sequencia(n):\n",
    "    if n == 0:\n",
    "        return 0\n",
    "    elif n == 1:\n",
    "        return 1    \n",
    "    elif n == 2:\n",
    "        return 2\n",
    "    else:\n",
    "        return 2 * sequencia(n - 1) + 3 * sequencia(n - 2)\n",
    "print(sequencia(5))"
   ]
  },
  {
   "cell_type": "markdown",
   "metadata": {},
   "source": [
    "Inversão de uma string"
   ]
  },
  {
   "cell_type": "code",
   "execution_count": 22,
   "metadata": {},
   "outputs": [
    {
     "name": "stdout",
     "output_type": "stream",
     "text": [
      "gnirts\n"
     ]
    }
   ],
   "source": [
    "def inversao_string(a):\n",
    "    if len(a) <= 1:\n",
    "        return a\n",
    "    else:\n",
    "        return a[-1] + inversao_string(a[:-1])\n",
    "print(inversao_string('string'))"
   ]
  },
  {
   "cell_type": "markdown",
   "metadata": {},
   "source": [
    "Cálculo de 1 + 1/2 + 1/3 + 1/4 + ... + 1/N."
   ]
  },
  {
   "cell_type": "code",
   "execution_count": 19,
   "metadata": {},
   "outputs": [
    {
     "name": "stdout",
     "output_type": "stream",
     "text": [
      "2.283333333333333\n"
     ]
    }
   ],
   "source": [
    "def serieharmonica(a):\n",
    "    if a == 1: \n",
    "        return 1\n",
    "    else:\n",
    "        return 1/a + serieharmonica(a-1)\n",
    "print (serieharmonica(5))"
   ]
  },
  {
   "cell_type": "markdown",
   "metadata": {},
   "source": [
    "Multiplicação de dois números naturais, através de somas sucessivas (Ex.: 6 ∗ 4 = 4 + 4 + 4 + 4 + 4 + 4)."
   ]
  },
  {
   "cell_type": "code",
   "execution_count": 20,
   "metadata": {},
   "outputs": [
    {
     "name": "stdout",
     "output_type": "stream",
     "text": [
      "24\n"
     ]
    }
   ],
   "source": [
    "def multiplicacao(a, b):\n",
    "    if a == 0:\n",
    "        return 0\n",
    "    return b + multiplicacao(a - 1, b)\n",
    "\n",
    "#Teste\n",
    "print(multiplicacao(6, 4)) "
   ]
  }
 ],
 "metadata": {
  "kernelspec": {
   "display_name": "Python 3",
   "language": "python",
   "name": "python3"
  },
  "language_info": {
   "codemirror_mode": {
    "name": "ipython",
    "version": 3
   },
   "file_extension": ".py",
   "mimetype": "text/x-python",
   "name": "python",
   "nbconvert_exporter": "python",
   "pygments_lexer": "ipython3",
   "version": "3.13.2"
  }
 },
 "nbformat": 4,
 "nbformat_minor": 2
}
