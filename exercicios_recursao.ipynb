{
 "cells": [
  {
   "cell_type": "markdown",
   "metadata": {},
   "source": [
<<<<<<< HEAD
<<<<<<< HEAD
    "Modele e implemente um método recursivo para encontrar o maior elemento de um ArrayList."
=======
=======
    "Alunos: Conrado Crestani, Larissa Laier e Nicolas Ribeiro"
   ]
  },
  {
   "cell_type": "markdown",
   "metadata": {},
   "source": [
>>>>>>> 4906b1c (atualizado)
    "Implemente um métodos que recebe um String e retorna um ArrayList com todas as permutações deste String."
>>>>>>> df4bf9f (atualizado)
   ]
  },
  {
   "cell_type": "code",
   "execution_count": null,
   "metadata": {},
   "outputs": [],
   "source": [
    "def gerar_permutacoes(s):\n",
    "    resultado = []\n",
    "    permutar(s, \"\", resultado)\n",
    "    return resultado\n",
    "\n",
    "def permutar(s, prefixo, resultado):\n",
    "    if len(s) == 0:\n",
    "        resultado.append(prefixo)\n",
    "    else:\n",
    "        for i in range(len(s)):\n",
    "            novo_prefixo = prefixo + s[i]\n",
    "            restante = s[:i] + s[i+1:]\n",
    "            permutar(restante, novo_prefixo, resultado)\n",
    "\n",
    "string = \"abc\"\n",
    "permutacoes = gerar_permutacoes(string)\n",
    "print(permutacoes)"
   ]
  },
  {
   "cell_type": "markdown",
   "metadata": {},
   "source": [
<<<<<<< HEAD
    "Modele e implemente um método recursivo que calcule o somatório dos números contidos em um ArrayList de inteiros, passado como parâmetro."
=======
    "Faça um método recursivo que determina o número de dígitos de um inteiro."
   ]
  },
  {
   "cell_type": "code",
   "execution_count": 11,
   "metadata": {},
   "outputs": [
    {
     "name": "stdout",
     "output_type": "stream",
     "text": [
      "3\n"
     ]
    }
   ],
   "source": [
    "def qntDigitos(n):\n",
    "    return len(str(n))\n",
    "\n",
    "numero = 950\n",
    "print(qntDigitos(numero))"
   ]
  },
  {
   "cell_type": "markdown",
   "metadata": {},
   "source": [
    "Implemente um método recursivo para determinar se um string ocorre dentro de outro."
   ]
  },
  {
   "cell_type": "code",
   "execution_count": 18,
   "metadata": {},
   "outputs": [
    {
     "name": "stdout",
     "output_type": "stream",
     "text": [
      "True\n"
     ]
    }
   ],
   "source": [
    "def stringDentro(string1, string2):\n",
    "    if string1 in string2:\n",
    "        return True\n",
    "    elif string2 in string1:\n",
    "        return True\n",
    "    else:\n",
    "        return False\n",
    "    \n",
    "string1 = \"ovo\"\n",
    "string2 = \"novo\"\n",
    "\n",
    "print(stringDentro(string1, string2))"
   ]
  },
  {
   "cell_type": "markdown",
   "metadata": {},
   "source": [
    "Modele e implemente um método recursivo para encontrar o maior elemento de um ArrayList."
>>>>>>> df4bf9f (atualizado)
   ]
  },
  {
   "cell_type": "code",
   "execution_count": 6,
   "metadata": {},
<<<<<<< HEAD
   "outputs": [],
=======
   "outputs": [
    {
     "name": "stdout",
     "output_type": "stream",
     "text": [
      "9\n"
     ]
    }
   ],
   "source": [
    "def maiorElemento(array):\n",
    "    if len(array) == 1:\n",
    "        return array[0]\n",
    "    elif len(array) == 0:\n",
    "        return None\n",
    "    else:\n",
    "        return max(array[0], maiorElemento(array[1:]))\n",
    "\n",
    "lista = [1, 2, 9, 4, 5]\n",
    "print(maiorElemento(lista))"
   ]
  },
  {
   "cell_type": "markdown",
   "metadata": {},
   "source": [
    "Modele e implemente um método recursivo que calcule o somatório dos números contidos em um ArrayList de inteiros, passado como parâmetro."
   ]
  },
  {
   "cell_type": "code",
   "execution_count": 3,
   "metadata": {},
   "outputs": [
    {
     "name": "stdout",
     "output_type": "stream",
     "text": [
      "18\n"
     ]
    }
   ],
>>>>>>> df4bf9f (atualizado)
   "source": [
    "def somaArray(array):\n",
    "    if len(array) == 0:\n",
    "        return 0\n",
<<<<<<< HEAD
    "    return array[0] + somaArray(array[1:])"
=======
    "    return array[0] + somaArray(array[1:])\n",
    "lista = [1, 4, 5, 8]\n",
    "soma = somaArray(lista)\n",
    "print(soma)"
>>>>>>> df4bf9f (atualizado)
   ]
  },
  {
   "cell_type": "markdown",
   "metadata": {},
   "source": [
    "Modele e implemente um método recursivo que recebe um inteiro zero ou positivo e retorna um Strinf com o número em binário."
   ]
  },
  {
   "cell_type": "code",
   "execution_count": 1,
   "metadata": {},
   "outputs": [
    {
     "name": "stdout",
     "output_type": "stream",
     "text": [
      "101\n",
      "1010\n",
      "0\n"
     ]
    }
   ],
   "source": [
    "def binario(n):\n",
    "    if n == 0:\n",
    "        return \"0\"\n",
    "    elif n == 1:\n",
    "        return \"1\"\n",
    "    else:\n",
    "        return binario(n // 2) + str(n % 2)\n",
    "# Testes\n",
    "print(binario(5))   # 101\n",
    "print(binario(10))  # 1010\n",
    "print(binario(0))   # 0"
   ]
  },
  {
   "cell_type": "markdown",
   "metadata": {},
   "source": [
    "Modele e implemente um método recursivo que recebe um String e retorna true se este String for um palíndrome, e false caso contrário."
   ]
  },
  {
   "cell_type": "code",
   "execution_count": null,
   "metadata": {},
   "outputs": [
    {
     "name": "stdout",
     "output_type": "stream",
     "text": [
      "True\n",
      "True\n",
      "False\n"
     ]
    }
   ],
   "source": [
    "from queue import Full\n",
    "\n",
    "\n",
    "def palindromo(palavra):\n",
    "    if len(palavra) <= 1:\n",
    "        return True\n",
    "    elif palavra[0] != palavra[-1]: # se a primeira letra for diferente da ultima\n",
    "        return False\n",
    "    return palindromo(palavra[1:-1]) # chamada recursiva com a palavra sem a primeira e ultima letra\n",
    "\n",
    "print(palindromo('ovo'))\n",
    "print(palindromo('arara'))\n",
    "print(palindromo('python'))"
   ]
  },
  {
   "cell_type": "markdown",
   "metadata": {},
   "source": [
    "Modele e implemente um método recursivo que calcule o somatório dos números inteiros entre os números k e j, passados como parâmetro."
   ]
  },
  {
   "cell_type": "code",
   "execution_count": 8,
   "metadata": {},
   "outputs": [
    {
     "name": "stdout",
     "output_type": "stream",
     "text": [
      "0\n"
     ]
    }
   ],
   "source": [
    "def somatorio(k, j):\n",
    "    if k == j:\n",
    "        return k\n",
    "    elif k < j:\n",
    "        return k + somatorio(k + 1, j)\n",
    "    else:\n",
    "        return k + somatorio(k - 1, j)\n",
    "\n",
    "print(somatorio(-3, 3))\n",
    "    "
   ]
  },
  {
   "cell_type": "markdown",
   "metadata": {},
   "source": [
    "Modele e implemente um método recursivo que calcule o n-ésimo número da sequência de Fibonacci."
   ]
  },
  {
   "cell_type": "code",
   "execution_count": 3,
   "metadata": {},
   "outputs": [
    {
     "name": "stdout",
     "output_type": "stream",
     "text": [
      "8\n"
     ]
    }
   ],
   "source": [
    "def fibonacci(n):\n",
    "    if n == 0:\n",
    "        return 0\n",
    "    elif n == 1:\n",
    "        return 1\n",
    "    return fibonacci(n - 1) + fibonacci(n - 2)\n",
    "\n",
    "print(fibonacci(6))"
   ]
  },
  {
   "cell_type": "markdown",
   "metadata": {},
   "source": [
    "Modele e implemente um método recursivo que calcule o somatório de um número n (passado como parâmetro) até 0.\n",
    "\n",
    "Assinatura: soma os números de 0 à n.\n",
    "Erros: "
   ]
  },
  {
   "cell_type": "code",
   "execution_count": 5,
   "metadata": {},
   "outputs": [
    {
     "name": "stdout",
     "output_type": "stream",
     "text": [
      "-15\n"
     ]
    }
   ],
   "source": [
    "def somatório(n):\n",
    "    if n == 0:\n",
    "        return 0\n",
    "    elif n > 0:\n",
    "        return n + somatório(n-1)\n",
    "    else:\n",
    "        return n + somatório(n+1)\n",
    "\n",
    "print(somatório(-5))"
   ]
  },
  {
   "cell_type": "markdown",
   "metadata": {},
   "source": [
    "Modele e implemente um método recursivo que calcule o fatorial de um número n passado como parâmetro."
   ]
  },
  {
   "cell_type": "code",
   "execution_count": null,
   "metadata": {},
   "outputs": [],
   "source": [
    "def fatorial(n):\n",
    "\tif n < 0:\n",
    "\t\treturn None\n",
    "\telif (n == 0) or (n == 1):\n",
    "\t\treturn 1\n",
    "\treturn n * fatorial (n - 1)\n",
    "\n",
    "print(fatorial(5))"
   ]
  }
 ],
 "metadata": {
  "kernelspec": {
   "display_name": "Python 3",
   "language": "python",
   "name": "python3"
  },
  "language_info": {
   "codemirror_mode": {
    "name": "ipython",
    "version": 3
   },
   "file_extension": ".py",
   "mimetype": "text/x-python",
   "name": "python",
   "nbconvert_exporter": "python",
   "pygments_lexer": "ipython3",
   "version": "3.13.2"
  }
 },
 "nbformat": 4,
 "nbformat_minor": 2
}
