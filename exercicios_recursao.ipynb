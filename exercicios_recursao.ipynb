{
 "cells": [
  {
   "cell_type": "markdown",
   "metadata": {},
   "source": [
    "Modele e implemente um método recursivo para encontrar o maior elemento de um ArrayList."
   ]
  },
  {
   "cell_type": "code",
   "execution_count": null,
   "metadata": {},
   "outputs": [],
   "source": []
  },
  {
   "cell_type": "markdown",
   "metadata": {},
   "source": [
    "Modele e implemente um método recursivo que calcule o somatório dos números contidos em um ArrayList de inteiros, passado como parâmetro."
   ]
  },
  {
   "cell_type": "code",
   "execution_count": 6,
   "metadata": {},
   "outputs": [],
   "source": [
    "def somaArray(array):\n",
    "    if len(array) == 0:\n",
    "        return 0\n",
    "    return array[0] + somaArray(array[1:])"
   ]
  },
  {
   "cell_type": "markdown",
   "metadata": {},
   "source": [
    "Modele e implemente um método recursivo que recebe um inteiro zero ou positivo e retorna um Strinf com o número em binário."
   ]
  },
  {
   "cell_type": "code",
   "execution_count": 1,
   "metadata": {},
   "outputs": [
    {
     "name": "stdout",
     "output_type": "stream",
     "text": [
      "101\n",
      "1010\n",
      "0\n"
     ]
    }
   ],
   "source": [
    "def binario(n):\n",
    "    if n == 0:\n",
    "        return \"0\"\n",
    "    elif n == 1:\n",
    "        return \"1\"\n",
    "    else:\n",
    "        return binario(n // 2) + str(n % 2)\n",
    "# Testes\n",
    "print(binario(5))   # 101\n",
    "print(binario(10))  # 1010\n",
    "print(binario(0))   # 0"
   ]
  },
  {
   "cell_type": "markdown",
   "metadata": {},
   "source": [
    "Modele e implemente um método recursivo que recebe um String e retorna true se este String for um palíndrome, e false caso contrário."
   ]
  },
  {
   "cell_type": "code",
   "execution_count": null,
   "metadata": {},
   "outputs": [
    {
     "name": "stdout",
     "output_type": "stream",
     "text": [
      "True\n",
      "True\n",
      "False\n"
     ]
    }
   ],
   "source": [
    "from queue import Full\n",
    "\n",
    "\n",
    "def palindromo(palavra):\n",
    "    if len(palavra) <= 1:\n",
    "        return True\n",
    "    elif palavra[0] != palavra[-1]: # se a primeira letra for diferente da ultima\n",
    "        return False\n",
    "    return palindromo(palavra[1:-1]) # chamada recursiva com a palavra sem a primeira e ultima letra\n",
    "\n",
    "print(palindromo('ovo'))\n",
    "print(palindromo('arara'))\n",
    "print(palindromo('python'))"
   ]
  },
  {
   "cell_type": "markdown",
   "metadata": {},
   "source": [
    "Modele e implemente um método recursivo que calcule o somatório dos números inteiros entre os números k e j, passados como parâmetro."
   ]
  },
  {
   "cell_type": "code",
   "execution_count": 8,
   "metadata": {},
   "outputs": [
    {
     "name": "stdout",
     "output_type": "stream",
     "text": [
      "0\n"
     ]
    }
   ],
   "source": [
    "def somatorio(k, j):\n",
    "    if k == j:\n",
    "        return k\n",
    "    elif k < j:\n",
    "        return k + somatorio(k + 1, j)\n",
    "    else:\n",
    "        return k + somatorio(k - 1, j)\n",
    "\n",
    "print(somatorio(-3, 3))\n",
    "    "
   ]
  },
  {
   "cell_type": "markdown",
   "metadata": {},
   "source": [
    "Modele e implemente um método recursivo que calcule o n-ésimo número da sequência de Fibonacci."
   ]
  },
  {
   "cell_type": "code",
   "execution_count": 3,
   "metadata": {},
   "outputs": [
    {
     "name": "stdout",
     "output_type": "stream",
     "text": [
      "8\n"
     ]
    }
   ],
   "source": [
    "def fibonacci(n):\n",
    "    if n == 0:\n",
    "        return 0\n",
    "    elif n == 1:\n",
    "        return 1\n",
    "    return fibonacci(n - 1) + fibonacci(n - 2)\n",
    "\n",
    "print(fibonacci(6))"
   ]
  },
  {
   "cell_type": "markdown",
   "metadata": {},
   "source": [
    "Modele e implemente um método recursivo que calcule o somatório de um número n (passado como parâmetro) até 0.\n",
    "\n",
    "Assinatura: soma os números de 0 à n.\n",
    "Erros: "
   ]
  },
  {
   "cell_type": "code",
   "execution_count": 5,
   "metadata": {},
   "outputs": [
    {
     "name": "stdout",
     "output_type": "stream",
     "text": [
      "-15\n"
     ]
    }
   ],
   "source": [
    "def somatório(n):\n",
    "    if n == 0:\n",
    "        return 0\n",
    "    elif n > 0:\n",
    "        return n + somatório(n-1)\n",
    "    else:\n",
    "        return n + somatório(n+1)\n",
    "\n",
    "print(somatório(-5))"
   ]
  },
  {
   "cell_type": "markdown",
   "metadata": {},
   "source": [
    "Modele e implemente um método recursivo que calcule o fatorial de um número n passado como parâmetro."
   ]
  },
  {
   "cell_type": "code",
   "execution_count": null,
   "metadata": {},
   "outputs": [],
   "source": [
    "def fatorial(n):\n",
    "\tif n < 0:\n",
    "\t\treturn None\n",
    "\telif (n == 0) or (n == 1):\n",
    "\t\treturn 1\n",
    "\treturn n * fatorial (n - 1)\n",
    "\n",
    "print(fatorial(5))"
   ]
  }
 ],
 "metadata": {
  "kernelspec": {
   "display_name": "Python 3",
   "language": "python",
   "name": "python3"
  },
  "language_info": {
   "codemirror_mode": {
    "name": "ipython",
    "version": 3
   },
   "file_extension": ".py",
   "mimetype": "text/x-python",
   "name": "python",
   "nbconvert_exporter": "python",
   "pygments_lexer": "ipython3",
   "version": "3.13.2"
  }
 },
 "nbformat": 4,
 "nbformat_minor": 2
}
